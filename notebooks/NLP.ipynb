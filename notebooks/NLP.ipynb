{
 "cells": [
  {
   "cell_type": "code",
   "execution_count": 2,
   "metadata": {
    "collapsed": true,
    "jupyter": {
     "outputs_hidden": true
    }
   },
   "outputs": [
    {
     "name": "stdout",
     "output_type": "stream",
     "text": [
      "Processing /home/ghalifaten/.cache/pip/wheels/2a/e5/c2/fd8dad0a452927c85ecd3c6cbaa4748125246eed73d8303184/empath-0.89-py3-none-any.whl\n",
      "Requirement already satisfied: requests in /home/ghalifaten/Anaconda3/lib/python3.8/site-packages (from empath) (2.24.0)\n",
      "Requirement already satisfied: certifi>=2017.4.17 in /home/ghalifaten/Anaconda3/lib/python3.8/site-packages (from requests->empath) (2020.6.20)\n",
      "Requirement already satisfied: idna<3,>=2.5 in /home/ghalifaten/Anaconda3/lib/python3.8/site-packages (from requests->empath) (2.10)\n",
      "Requirement already satisfied: urllib3!=1.25.0,!=1.25.1,<1.26,>=1.21.1 in /home/ghalifaten/Anaconda3/lib/python3.8/site-packages (from requests->empath) (1.25.9)\n",
      "Requirement already satisfied: chardet<4,>=3.0.2 in /home/ghalifaten/Anaconda3/lib/python3.8/site-packages (from requests->empath) (3.0.4)\n",
      "Installing collected packages: empath\n",
      "Successfully installed empath-0.89\n",
      "Note: you may need to restart the kernel to use updated packages.\n"
     ]
    }
   ],
   "source": [
    "%pip install empath "
   ]
  },
  {
   "cell_type": "code",
   "execution_count": 18,
   "metadata": {},
   "outputs": [],
   "source": [
    "import pandas as pd\n",
    "import spacy\n",
    "from collections import Counter\n",
    "from empath import Empath"
   ]
  },
  {
   "cell_type": "code",
   "execution_count": 19,
   "metadata": {},
   "outputs": [],
   "source": [
    "FOLDER = \"data/\"\n",
    "FILENAMES = [\"1950_lyrics\", \"1960_lyrics\", \"1970_lyrics\", \"1980_lyrics\", \"1990_lyrics\", \"2000_lyrics\", \"2010_lyrics\", \"2020_lyrics\"]"
   ]
  },
  {
   "cell_type": "code",
   "execution_count": 20,
   "metadata": {},
   "outputs": [],
   "source": [
    "nlp = spacy.load('en')"
   ]
  },
  {
   "cell_type": "markdown",
   "metadata": {},
   "source": [
    "# Word count"
   ]
  },
  {
   "cell_type": "code",
   "execution_count": 28,
   "metadata": {},
   "outputs": [],
   "source": [
    "spacy_stopwords = spacy.lang.en.stop_words.STOP_WORDS\n",
    "for w in [\" \", \"\\n\", \"\\n\\n\", \"s\", \"t\", \"ai\", \"ll\"]:\n",
    "    nlp.vocab[w].is_stop = True"
   ]
  },
  {
   "cell_type": "code",
   "execution_count": 33,
   "metadata": {},
   "outputs": [],
   "source": [
    "def word_count_to_csv(filename):\n",
    "    file = open(FOLDER+filename+\".txt\", \"r\")\n",
    "    doc = nlp(file.read())\n",
    "    #stop_words = [token.text for token in doc if token.is_stop]\n",
    "    words = [token.text.lower() for token in doc if token.is_stop != True and token.is_punct != True and len(token)>1] #without stopwords or punctuation\n",
    "    df = pd.DataFrame(Counter(words).most_common(100), columns=['word', 'count'])\n",
    "    df.to_csv(FOLDER+filename+\".csv\", index=False)"
   ]
  },
  {
   "cell_type": "code",
   "execution_count": 34,
   "metadata": {},
   "outputs": [],
   "source": [
    "for filename in FILENAMES:\n",
    "    word_count_to_csv(filename)"
   ]
  },
  {
   "cell_type": "markdown",
   "metadata": {},
   "source": [
    "# Sentiment analysis"
   ]
  },
  {
   "cell_type": "code",
   "execution_count": 24,
   "metadata": {},
   "outputs": [],
   "source": [
    "lexicon = Empath()"
   ]
  },
  {
   "cell_type": "code",
   "execution_count": 25,
   "metadata": {},
   "outputs": [],
   "source": [
    "import numpy as np\n",
    "def round_up(value):\n",
    "    return np.round(value*100, 2)"
   ]
  },
  {
   "cell_type": "code",
   "execution_count": 31,
   "metadata": {},
   "outputs": [],
   "source": [
    "def get_sentiments(filename, sentiments):\n",
    "    file = open(FOLDER+filename+\".txt\", \"r\")\n",
    "    doc = nlp(file.read())\n",
    "    empath_features = lexicon.analyze(doc.text,categories = sentiments, normalize = True)\n",
    "    for key in empath_features:\n",
    "        empath_features[key] = round_up(empath_features[key])\n",
    "    print('{0}: {1}\\n'.format(filename, empath_features))"
   ]
  },
  {
   "cell_type": "code",
   "execution_count": 32,
   "metadata": {},
   "outputs": [
    {
     "name": "stdout",
     "output_type": "stream",
     "text": [
      "1950_lyrics: {'love': 1.24, 'pain': 0.28, 'sadness': 0.08, 'hate': 0.06, 'joy': 0.06}\n",
      "\n",
      "1960_lyrics: {'love': 1.29, 'pain': 0.56, 'sadness': 0.26, 'hate': 0.15, 'joy': 0.09}\n",
      "\n",
      "1970_lyrics: {'love': 1.09, 'pain': 0.66, 'sadness': 0.17, 'hate': 0.21, 'joy': 0.17}\n",
      "\n",
      "1980_lyrics: {'love': 1.42, 'pain': 0.8, 'sadness': 0.29, 'hate': 0.29, 'joy': 0.16}\n",
      "\n",
      "1990_lyrics: {'love': 0.8, 'pain': 0.6, 'sadness': 0.38, 'hate': 0.37, 'joy': 0.17}\n",
      "\n",
      "2000_lyrics: {'love': 0.64, 'pain': 0.64, 'sadness': 0.14, 'hate': 0.16, 'joy': 0.08}\n",
      "\n",
      "2010_lyrics: {'love': 0.68, 'pain': 0.47, 'sadness': 0.12, 'hate': 0.21, 'joy': 0.03}\n",
      "\n",
      "2020_lyrics: {'love': 0.72, 'pain': 0.3, 'sadness': 0.18, 'hate': 0.12, 'joy': 0.06}\n",
      "\n"
     ]
    }
   ],
   "source": [
    "sentiments = [\"love\", \"pain\", \"sadness\", \"hate\", \"joy\"]\n",
    "for filename in FILENAMES:\n",
    "    get_sentiments(filename, sentiments)"
   ]
  },
  {
   "cell_type": "code",
   "execution_count": null,
   "metadata": {},
   "outputs": [],
   "source": []
  }
 ],
 "metadata": {
  "kernelspec": {
   "display_name": "Python 3",
   "language": "python",
   "name": "python3"
  },
  "language_info": {
   "codemirror_mode": {
    "name": "ipython",
    "version": 3
   },
   "file_extension": ".py",
   "mimetype": "text/x-python",
   "name": "python",
   "nbconvert_exporter": "python",
   "pygments_lexer": "ipython3",
   "version": "3.8.3"
  }
 },
 "nbformat": 4,
 "nbformat_minor": 4
}
