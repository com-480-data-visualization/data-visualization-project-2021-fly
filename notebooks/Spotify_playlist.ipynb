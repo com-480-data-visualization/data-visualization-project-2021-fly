{
 "cells": [
  {
   "cell_type": "code",
   "execution_count": 10,
   "id": "2ccc8c0e",
   "metadata": {},
   "outputs": [],
   "source": [
    "import pandas as pd\n",
    "import numpy as np\n",
    "import spotipy\n",
    "from spotipy.oauth2 import SpotifyClientCredentials #To access authorised Spotify data\n",
    "import spotipy.util as util"
   ]
  },
  {
   "cell_type": "code",
   "execution_count": 2,
   "id": "159f139e",
   "metadata": {},
   "outputs": [],
   "source": [
    "# Reading our data stored in a csv\n",
    "billboard = pd.read_csv('../original/Hot Stuff.csv')\n",
    "audio_feats = pd.read_excel('../original/Hot 100 Audio Features.xlsx')"
   ]
  },
  {
   "cell_type": "code",
   "execution_count": 3,
   "id": "29c4027a",
   "metadata": {},
   "outputs": [
    {
     "data": {
      "text/html": [
       "<div>\n",
       "<style scoped>\n",
       "    .dataframe tbody tr th:only-of-type {\n",
       "        vertical-align: middle;\n",
       "    }\n",
       "\n",
       "    .dataframe tbody tr th {\n",
       "        vertical-align: top;\n",
       "    }\n",
       "\n",
       "    .dataframe thead th {\n",
       "        text-align: right;\n",
       "    }\n",
       "</style>\n",
       "<table border=\"1\" class=\"dataframe\">\n",
       "  <thead>\n",
       "    <tr style=\"text-align: right;\">\n",
       "      <th></th>\n",
       "      <th>url</th>\n",
       "      <th>WeekID</th>\n",
       "      <th>Week Position</th>\n",
       "      <th>Song</th>\n",
       "      <th>Performer</th>\n",
       "      <th>SongID</th>\n",
       "      <th>Instance</th>\n",
       "      <th>Previous Week Position</th>\n",
       "      <th>Peak Position</th>\n",
       "      <th>Weeks on Chart</th>\n",
       "    </tr>\n",
       "  </thead>\n",
       "  <tbody>\n",
       "    <tr>\n",
       "      <th>0</th>\n",
       "      <td>http://www.billboard.com/charts/hot-100/1963-0...</td>\n",
       "      <td>6/1/1963</td>\n",
       "      <td>11</td>\n",
       "      <td>Still</td>\n",
       "      <td>Bill Anderson</td>\n",
       "      <td>StillBill Anderson</td>\n",
       "      <td>1.0</td>\n",
       "      <td>17.0</td>\n",
       "      <td>11.0</td>\n",
       "      <td>8.0</td>\n",
       "    </tr>\n",
       "    <tr>\n",
       "      <th>1</th>\n",
       "      <td>http://www.billboard.com/charts/hot-100/1967-0...</td>\n",
       "      <td>1/7/1967</td>\n",
       "      <td>11</td>\n",
       "      <td>Coming Home Soldier</td>\n",
       "      <td>Bobby Vinton</td>\n",
       "      <td>Coming Home SoldierBobby Vinton</td>\n",
       "      <td>1.0</td>\n",
       "      <td>17.0</td>\n",
       "      <td>11.0</td>\n",
       "      <td>8.0</td>\n",
       "    </tr>\n",
       "    <tr>\n",
       "      <th>2</th>\n",
       "      <td>http://www.billboard.com/charts/hot-100/1971-0...</td>\n",
       "      <td>7/3/1971</td>\n",
       "      <td>11</td>\n",
       "      <td>She's Not Just Another Woman</td>\n",
       "      <td>The 8th Day</td>\n",
       "      <td>She's Not Just Another WomanThe 8th Day</td>\n",
       "      <td>1.0</td>\n",
       "      <td>17.0</td>\n",
       "      <td>11.0</td>\n",
       "      <td>8.0</td>\n",
       "    </tr>\n",
       "  </tbody>\n",
       "</table>\n",
       "</div>"
      ],
      "text/plain": [
       "                                                 url    WeekID  Week Position  \\\n",
       "0  http://www.billboard.com/charts/hot-100/1963-0...  6/1/1963             11   \n",
       "1  http://www.billboard.com/charts/hot-100/1967-0...  1/7/1967             11   \n",
       "2  http://www.billboard.com/charts/hot-100/1971-0...  7/3/1971             11   \n",
       "\n",
       "                           Song      Performer  \\\n",
       "0                         Still  Bill Anderson   \n",
       "1           Coming Home Soldier   Bobby Vinton   \n",
       "2  She's Not Just Another Woman    The 8th Day   \n",
       "\n",
       "                                    SongID  Instance  Previous Week Position  \\\n",
       "0                       StillBill Anderson       1.0                    17.0   \n",
       "1          Coming Home SoldierBobby Vinton       1.0                    17.0   \n",
       "2  She's Not Just Another WomanThe 8th Day       1.0                    17.0   \n",
       "\n",
       "   Peak Position  Weeks on Chart  \n",
       "0           11.0             8.0  \n",
       "1           11.0             8.0  \n",
       "2           11.0             8.0  "
      ]
     },
     "execution_count": 3,
     "metadata": {},
     "output_type": "execute_result"
    }
   ],
   "source": [
    "billboard.head(3)"
   ]
  },
  {
   "cell_type": "code",
   "execution_count": 4,
   "id": "c6354a22",
   "metadata": {},
   "outputs": [
    {
     "data": {
      "text/html": [
       "<div>\n",
       "<style scoped>\n",
       "    .dataframe tbody tr th:only-of-type {\n",
       "        vertical-align: middle;\n",
       "    }\n",
       "\n",
       "    .dataframe tbody tr th {\n",
       "        vertical-align: top;\n",
       "    }\n",
       "\n",
       "    .dataframe thead th {\n",
       "        text-align: right;\n",
       "    }\n",
       "</style>\n",
       "<table border=\"1\" class=\"dataframe\">\n",
       "  <thead>\n",
       "    <tr style=\"text-align: right;\">\n",
       "      <th></th>\n",
       "      <th>SongID</th>\n",
       "      <th>Performer</th>\n",
       "      <th>Song</th>\n",
       "      <th>spotify_genre</th>\n",
       "      <th>spotify_track_id</th>\n",
       "      <th>spotify_track_preview_url</th>\n",
       "      <th>spotify_track_album</th>\n",
       "      <th>spotify_track_explicit</th>\n",
       "      <th>spotify_track_duration_ms</th>\n",
       "      <th>spotify_track_popularity</th>\n",
       "      <th>...</th>\n",
       "      <th>key</th>\n",
       "      <th>loudness</th>\n",
       "      <th>mode</th>\n",
       "      <th>speechiness</th>\n",
       "      <th>acousticness</th>\n",
       "      <th>instrumentalness</th>\n",
       "      <th>liveness</th>\n",
       "      <th>valence</th>\n",
       "      <th>tempo</th>\n",
       "      <th>time_signature</th>\n",
       "    </tr>\n",
       "  </thead>\n",
       "  <tbody>\n",
       "    <tr>\n",
       "      <th>0</th>\n",
       "      <td>AdictoTainy, Anuel AA &amp; Ozuna</td>\n",
       "      <td>Tainy, Anuel AA &amp; Ozuna</td>\n",
       "      <td>Adicto</td>\n",
       "      <td>['pop reggaeton']</td>\n",
       "      <td>3jbT1Y5MoPwEIpZndDDwVq</td>\n",
       "      <td>NaN</td>\n",
       "      <td>Adicto (with Anuel AA &amp; Ozuna)</td>\n",
       "      <td>0.0</td>\n",
       "      <td>270740.0</td>\n",
       "      <td>91.0</td>\n",
       "      <td>...</td>\n",
       "      <td>10.0</td>\n",
       "      <td>-4.803</td>\n",
       "      <td>0.0</td>\n",
       "      <td>0.0735</td>\n",
       "      <td>0.017</td>\n",
       "      <td>0.000016</td>\n",
       "      <td>0.179</td>\n",
       "      <td>0.623</td>\n",
       "      <td>80.002</td>\n",
       "      <td>4.0</td>\n",
       "    </tr>\n",
       "    <tr>\n",
       "      <th>1</th>\n",
       "      <td>The Ones That Didn't Make It Back HomeJustin M...</td>\n",
       "      <td>Justin Moore</td>\n",
       "      <td>The Ones That Didn't Make It Back Home</td>\n",
       "      <td>['arkansas country', 'contemporary country', '...</td>\n",
       "      <td>NaN</td>\n",
       "      <td>NaN</td>\n",
       "      <td>NaN</td>\n",
       "      <td>NaN</td>\n",
       "      <td>NaN</td>\n",
       "      <td>NaN</td>\n",
       "      <td>...</td>\n",
       "      <td>NaN</td>\n",
       "      <td>NaN</td>\n",
       "      <td>NaN</td>\n",
       "      <td>NaN</td>\n",
       "      <td>NaN</td>\n",
       "      <td>NaN</td>\n",
       "      <td>NaN</td>\n",
       "      <td>NaN</td>\n",
       "      <td>NaN</td>\n",
       "      <td>NaN</td>\n",
       "    </tr>\n",
       "    <tr>\n",
       "      <th>2</th>\n",
       "      <td>ShallowLady Gaga &amp; Bradley Cooper</td>\n",
       "      <td>Lady Gaga &amp; Bradley Cooper</td>\n",
       "      <td>Shallow</td>\n",
       "      <td>['dance pop', 'pop']</td>\n",
       "      <td>2VxeLyX666F8uXCJ0dZF8B</td>\n",
       "      <td>NaN</td>\n",
       "      <td>A Star Is Born Soundtrack</td>\n",
       "      <td>0.0</td>\n",
       "      <td>215733.0</td>\n",
       "      <td>88.0</td>\n",
       "      <td>...</td>\n",
       "      <td>7.0</td>\n",
       "      <td>-6.362</td>\n",
       "      <td>1.0</td>\n",
       "      <td>0.0308</td>\n",
       "      <td>0.371</td>\n",
       "      <td>0.000000</td>\n",
       "      <td>0.231</td>\n",
       "      <td>0.323</td>\n",
       "      <td>95.799</td>\n",
       "      <td>4.0</td>\n",
       "    </tr>\n",
       "  </tbody>\n",
       "</table>\n",
       "<p>3 rows × 22 columns</p>\n",
       "</div>"
      ],
      "text/plain": [
       "                                              SongID  \\\n",
       "0                      AdictoTainy, Anuel AA & Ozuna   \n",
       "1  The Ones That Didn't Make It Back HomeJustin M...   \n",
       "2                  ShallowLady Gaga & Bradley Cooper   \n",
       "\n",
       "                    Performer                                    Song  \\\n",
       "0     Tainy, Anuel AA & Ozuna                                  Adicto   \n",
       "1                Justin Moore  The Ones That Didn't Make It Back Home   \n",
       "2  Lady Gaga & Bradley Cooper                                 Shallow   \n",
       "\n",
       "                                       spotify_genre        spotify_track_id  \\\n",
       "0                                  ['pop reggaeton']  3jbT1Y5MoPwEIpZndDDwVq   \n",
       "1  ['arkansas country', 'contemporary country', '...                     NaN   \n",
       "2                               ['dance pop', 'pop']  2VxeLyX666F8uXCJ0dZF8B   \n",
       "\n",
       "  spotify_track_preview_url             spotify_track_album  \\\n",
       "0                       NaN  Adicto (with Anuel AA & Ozuna)   \n",
       "1                       NaN                             NaN   \n",
       "2                       NaN       A Star Is Born Soundtrack   \n",
       "\n",
       "   spotify_track_explicit  spotify_track_duration_ms  \\\n",
       "0                     0.0                   270740.0   \n",
       "1                     NaN                        NaN   \n",
       "2                     0.0                   215733.0   \n",
       "\n",
       "   spotify_track_popularity  ...   key  loudness  mode  speechiness  \\\n",
       "0                      91.0  ...  10.0    -4.803   0.0       0.0735   \n",
       "1                       NaN  ...   NaN       NaN   NaN          NaN   \n",
       "2                      88.0  ...   7.0    -6.362   1.0       0.0308   \n",
       "\n",
       "   acousticness  instrumentalness  liveness  valence   tempo  time_signature  \n",
       "0         0.017          0.000016     0.179    0.623  80.002             4.0  \n",
       "1           NaN               NaN       NaN      NaN     NaN             NaN  \n",
       "2         0.371          0.000000     0.231    0.323  95.799             4.0  \n",
       "\n",
       "[3 rows x 22 columns]"
      ]
     },
     "execution_count": 4,
     "metadata": {},
     "output_type": "execute_result"
    }
   ],
   "source": [
    "audio_feats.head(3)"
   ]
  },
  {
   "cell_type": "code",
   "execution_count": 5,
   "id": "b3094a9e",
   "metadata": {},
   "outputs": [],
   "source": [
    "top = billboard[billboard['Week Position'] == 1]\n",
    "\n",
    "# Merge top ten music with audio features to get a dataframe with the features of all the top 10 songs\n",
    "audio_genre = top.merge(right=audio_feats, how='inner', on=['SongID'])[['WeekID', 'Week Position', 'Song_x', 'Performer_x', 'SongID', 'spotify_track_id']]\n",
    "\n",
    "audio_genre['WeekID'] = (pd.to_datetime(audio_genre['WeekID']).dt.year)"
   ]
  },
  {
   "cell_type": "code",
   "execution_count": 6,
   "id": "8b68196b",
   "metadata": {},
   "outputs": [],
   "source": [
    "song_to_keep = audio_genre[['WeekID','spotify_track_id','SongID']].groupby(['WeekID','spotify_track_id']).agg('count').sort_values(by='SongID').reset_index().drop_duplicates(['WeekID'],keep='last').spotify_track_id.values"
   ]
  },
  {
   "cell_type": "code",
   "execution_count": 7,
   "id": "4c7f8e9d",
   "metadata": {},
   "outputs": [],
   "source": [
    "df_song_playlist = audio_genre[audio_genre.spotify_track_id.isin(set(song_to_keep))].drop_duplicates('Song_x').sort_values(by='WeekID')"
   ]
  },
  {
   "cell_type": "code",
   "execution_count": 8,
   "id": "79632fb5",
   "metadata": {},
   "outputs": [],
   "source": [
    "tracks_id = df_song_playlist.spotify_track_id.to_list()"
   ]
  },
  {
   "cell_type": "code",
   "execution_count": 11,
   "id": "312cc4db",
   "metadata": {},
   "outputs": [],
   "source": [
    "client_id= \"922e0977111543faae64a89c4cc49932\"\n",
    "client_secret= \"6c7aea8528684421b1883ac051f10931\"\n",
    "username = 'khalfiyassine753'\n",
    "scope = 'playlist-modify-public'\n",
    "\n",
    "token = util.prompt_for_user_token(username,scope,client_id=client_id,client_secret=client_secret,redirect_uri='http://localhost:8008/callback') \n",
    "sp = spotipy.Spotify(auth=token)"
   ]
  },
  {
   "cell_type": "code",
   "execution_count": 12,
   "id": "8acc2df5",
   "metadata": {},
   "outputs": [
    {
     "data": {
      "text/plain": [
       "{'collaborative': False,\n",
       " 'description': '',\n",
       " 'external_urls': {'spotify': 'https://open.spotify.com/playlist/0gRamPUqr3UNXX8Exqf4M6'},\n",
       " 'followers': {'href': None, 'total': 0},\n",
       " 'href': 'https://api.spotify.com/v1/playlists/0gRamPUqr3UNXX8Exqf4M6',\n",
       " 'id': '0gRamPUqr3UNXX8Exqf4M6',\n",
       " 'images': [],\n",
       " 'name': 'The most popular music since the 1950s',\n",
       " 'owner': {'display_name': 'khalfiyassine753',\n",
       "  'external_urls': {'spotify': 'https://open.spotify.com/user/khalfiyassine753'},\n",
       "  'href': 'https://api.spotify.com/v1/users/khalfiyassine753',\n",
       "  'id': 'khalfiyassine753',\n",
       "  'type': 'user',\n",
       "  'uri': 'spotify:user:khalfiyassine753'},\n",
       " 'primary_color': None,\n",
       " 'public': True,\n",
       " 'snapshot_id': 'MSxlZGM0ZDVhODAzNWIwZTVlYzgyYmE5NjQ1YWJmZTU5ZjQyNzJiYjUx',\n",
       " 'tracks': {'href': 'https://api.spotify.com/v1/playlists/0gRamPUqr3UNXX8Exqf4M6/tracks',\n",
       "  'items': [],\n",
       "  'limit': 100,\n",
       "  'next': None,\n",
       "  'offset': 0,\n",
       "  'previous': None,\n",
       "  'total': 0},\n",
       " 'type': 'playlist',\n",
       " 'uri': 'spotify:playlist:0gRamPUqr3UNXX8Exqf4M6'}"
      ]
     },
     "execution_count": 12,
     "metadata": {},
     "output_type": "execute_result"
    }
   ],
   "source": [
    "playlist_name = f\"The most popular music since the 1950s\"    \n",
    "sp.user_playlist_create(username,name=playlist_name)"
   ]
  },
  {
   "cell_type": "code",
   "execution_count": 13,
   "id": "3da248c4",
   "metadata": {},
   "outputs": [],
   "source": [
    "def GetPlaylistID(username, playlist_name):\n",
    "    playlist_id = ''\n",
    "    playlists = sp.user_playlists(username)\n",
    "    for playlist in playlists['items']:  # iterate through playlists I follow\n",
    "        if playlist['name'] == playlist_name:  # filter for newly created playlist\n",
    "            playlist_id = playlist['id']\n",
    "    print(\"Got Playlist ID.\")\n",
    "    return playlist_id"
   ]
  },
  {
   "cell_type": "code",
   "execution_count": 14,
   "id": "d9ecba40",
   "metadata": {},
   "outputs": [
    {
     "name": "stdout",
     "output_type": "stream",
     "text": [
      "Got Playlist ID.\n"
     ]
    },
    {
     "data": {
      "text/plain": [
       "{'snapshot_id': 'MixlNmJhYmFkMzEzOTU4YWNhZmYzZGU4OGU2Yjk5YzViOTU0ZGExMDU0'}"
      ]
     },
     "execution_count": 14,
     "metadata": {},
     "output_type": "execute_result"
    }
   ],
   "source": [
    "sp.user_playlist_add_tracks(username,GetPlaylistID(username,playlist_name), tracks_id)"
   ]
  },
  {
   "cell_type": "code",
   "execution_count": null,
   "id": "db869836",
   "metadata": {},
   "outputs": [],
   "source": []
  }
 ],
 "metadata": {
  "kernelspec": {
   "display_name": "Python [conda env:ada] *",
   "language": "python",
   "name": "conda-env-ada-py"
  },
  "language_info": {
   "codemirror_mode": {
    "name": "ipython",
    "version": 3
   },
   "file_extension": ".py",
   "mimetype": "text/x-python",
   "name": "python",
   "nbconvert_exporter": "python",
   "pygments_lexer": "ipython3",
   "version": "3.8.8"
  }
 },
 "nbformat": 4,
 "nbformat_minor": 5
}
