{
 "cells": [
  {
   "cell_type": "code",
   "execution_count": 38,
   "id": "e98c6656",
   "metadata": {},
   "outputs": [],
   "source": [
    "import pandas as pd\n",
    "import numpy as np\n",
    "import spotipy\n",
    "from spotipy.oauth2 import SpotifyClientCredentials #To access authorised Spotify data\n",
    "import spotipy.util as util\n",
    "import zipfile\n",
    "import warnings\n",
    "warnings.filterwarnings(\"ignore\")"
   ]
  },
  {
   "cell_type": "code",
   "execution_count": 39,
   "id": "99acb054",
   "metadata": {},
   "outputs": [],
   "source": [
    "# Reading our data stored in a csv\n",
    "audio_feats = pd.read_excel('../original/Hot 100 Audio Features.xlsx')\n",
    "zf = zipfile.ZipFile('../notebooks/data/complete_100.csv.zip') \n",
    "complete = pd.read_csv(zf.open('complete_100.csv'),index_col=0)"
   ]
  },
  {
   "cell_type": "code",
   "execution_count": 41,
   "id": "73d17d98",
   "metadata": {},
   "outputs": [],
   "source": [
    "# Keep only top 1\n",
    "top = complete[complete['Week Position'] == 1]\n",
    "\n",
    "# Merge top ten music with audio features to get a dataframe with the features of all the top 10 songs\n",
    "audio_genre = top.merge(right=audio_feats, how='inner', on=['SongID'])[['WeekID', 'Week Position', 'Song_x', 'Performer_x', 'SongID', 'spotify_track_id']]\n",
    "\n",
    "audio_genre['WeekID'] = (pd.to_datetime(audio_genre['WeekID']).dt.year)"
   ]
  },
  {
   "cell_type": "code",
   "execution_count": 42,
   "id": "07fbbb57",
   "metadata": {},
   "outputs": [],
   "source": [
    "# Select songs\n",
    "song_to_keep = audio_genre[['WeekID','spotify_track_id','SongID']].groupby(['WeekID','spotify_track_id']).agg('count').sort_values(by='SongID').reset_index().drop_duplicates(['WeekID'],keep='last').spotify_track_id.values"
   ]
  },
  {
   "cell_type": "code",
   "execution_count": 43,
   "id": "93bbe1e7",
   "metadata": {},
   "outputs": [],
   "source": [
    "# Dataframe from songs\n",
    "df_song_playlist = audio_genre[audio_genre.spotify_track_id.isin(set(song_to_keep))].drop_duplicates('Song_x').sort_values(by='WeekID')"
   ]
  },
  {
   "cell_type": "code",
   "execution_count": 44,
   "id": "6652e7e7",
   "metadata": {},
   "outputs": [],
   "source": [
    "# Tracks of music of interest\n",
    "tracks_id = df_song_playlist.spotify_track_id.to_list()"
   ]
  },
  {
   "cell_type": "code",
   "execution_count": 45,
   "id": "fb54ae74",
   "metadata": {},
   "outputs": [],
   "source": [
    "# Params of spotify creditential\n",
    "client_id= \"922e0977111543faae64a89c4cc49932\"\n",
    "client_secret= \"6c7aea8528684421b1883ac051f10931\"\n",
    "username = 'khalfiyassine753'\n",
    "scope = 'playlist-modify-public'\n",
    "token = util.prompt_for_user_token(username,scope,client_id=client_id,client_secret=client_secret,redirect_uri='http://localhost:8008/callback') \n",
    "sp = spotipy.Spotify(auth=token)"
   ]
  },
  {
   "cell_type": "code",
   "execution_count": 46,
   "id": "de7b363a",
   "metadata": {},
   "outputs": [
    {
     "data": {
      "text/plain": [
       "{'collaborative': False,\n",
       " 'description': '',\n",
       " 'external_urls': {'spotify': 'https://open.spotify.com/playlist/2BrJrj9YAUnf4TA4ZYGUxu'},\n",
       " 'followers': {'href': None, 'total': 0},\n",
       " 'href': 'https://api.spotify.com/v1/playlists/2BrJrj9YAUnf4TA4ZYGUxu',\n",
       " 'id': '2BrJrj9YAUnf4TA4ZYGUxu',\n",
       " 'images': [],\n",
       " 'name': 'The most popular music since the 1950s from Billboard',\n",
       " 'owner': {'display_name': 'khalfiyassine753',\n",
       "  'external_urls': {'spotify': 'https://open.spotify.com/user/khalfiyassine753'},\n",
       "  'href': 'https://api.spotify.com/v1/users/khalfiyassine753',\n",
       "  'id': 'khalfiyassine753',\n",
       "  'type': 'user',\n",
       "  'uri': 'spotify:user:khalfiyassine753'},\n",
       " 'primary_color': None,\n",
       " 'public': True,\n",
       " 'snapshot_id': 'MSxlODFlMjIyNDE5MmMyODNiMzkxZWZhZGMzMDhkMmM5NDZmNzJiZGM4',\n",
       " 'tracks': {'href': 'https://api.spotify.com/v1/playlists/2BrJrj9YAUnf4TA4ZYGUxu/tracks',\n",
       "  'items': [],\n",
       "  'limit': 100,\n",
       "  'next': None,\n",
       "  'offset': 0,\n",
       "  'previous': None,\n",
       "  'total': 0},\n",
       " 'type': 'playlist',\n",
       " 'uri': 'spotify:playlist:2BrJrj9YAUnf4TA4ZYGUxu'}"
      ]
     },
     "execution_count": 46,
     "metadata": {},
     "output_type": "execute_result"
    }
   ],
   "source": [
    "# Creation of playlist\n",
    "playlist_name = f\"The most popular music since the 1950s from Billboard\"    \n",
    "sp.user_playlist_create(username,name=playlist_name)"
   ]
  },
  {
   "cell_type": "code",
   "execution_count": 47,
   "id": "cfab590a",
   "metadata": {},
   "outputs": [],
   "source": [
    "# Get ID of playlist based on name\n",
    "def GetPlaylistID(username, playlist_name):\n",
    "    playlist_id = ''\n",
    "    playlists = sp.user_playlists(username)\n",
    "    for playlist in playlists['items']:  # iterate through playlists I follow\n",
    "        if playlist['name'] == playlist_name:  # filter for newly created playlist\n",
    "            playlist_id = playlist['id']\n",
    "    print(\"Got Playlist ID.\")\n",
    "    return playlist_id"
   ]
  },
  {
   "cell_type": "code",
   "execution_count": 48,
   "id": "cbacaaef",
   "metadata": {},
   "outputs": [
    {
     "name": "stdout",
     "output_type": "stream",
     "text": [
      "Got Playlist ID.\n"
     ]
    },
    {
     "data": {
      "text/plain": [
       "{'snapshot_id': 'MixhMGExMTYzYjkyZTg5MTkxMWRiMGM2ZTBlNWQ4ODMyZWZkMjMyODdj'}"
      ]
     },
     "execution_count": 48,
     "metadata": {},
     "output_type": "execute_result"
    }
   ],
   "source": [
    "# Add songs to playlist\n",
    "sp.user_playlist_add_tracks(username,GetPlaylistID(username,playlist_name), tracks_id)"
   ]
  },
  {
   "cell_type": "code",
   "execution_count": null,
   "id": "84cae1af",
   "metadata": {},
   "outputs": [],
   "source": []
  }
 ],
 "metadata": {
  "kernelspec": {
   "display_name": "Python [conda env:ada] *",
   "language": "python",
   "name": "conda-env-ada-py"
  },
  "language_info": {
   "codemirror_mode": {
    "name": "ipython",
    "version": 3
   },
   "file_extension": ".py",
   "mimetype": "text/x-python",
   "name": "python",
   "nbconvert_exporter": "python",
   "pygments_lexer": "ipython3",
   "version": "3.8.8"
  }
 },
 "nbformat": 4,
 "nbformat_minor": 5
}
