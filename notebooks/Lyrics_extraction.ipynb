{
 "cells": [
  {
   "cell_type": "code",
   "execution_count": 3,
   "metadata": {},
   "outputs": [],
   "source": [
    "#%pip install lyricsgenius"
   ]
  },
  {
   "cell_type": "code",
   "execution_count": 4,
   "metadata": {},
   "outputs": [],
   "source": [
    "import lyricsgenius as lg\n",
    "import pandas as pd\n",
    "import matplotlib.pyplot as plt"
   ]
  },
  {
   "cell_type": "code",
   "execution_count": 5,
   "metadata": {},
   "outputs": [],
   "source": [
    "FOLDER = \"data/\""
   ]
  },
  {
   "cell_type": "markdown",
   "metadata": {},
   "source": [
    "## Data wrangling:\n",
    "The final data frame **top10\\_df** contains top 10 songs per year, sorted by **'Weeks on Chart'**, i.e. the number of weeks they've been on the Billboard chart."
   ]
  },
  {
   "cell_type": "code",
   "execution_count": 6,
   "metadata": {},
   "outputs": [
    {
     "data": {
      "text/html": [
       "<div>\n",
       "<style scoped>\n",
       "    .dataframe tbody tr th:only-of-type {\n",
       "        vertical-align: middle;\n",
       "    }\n",
       "\n",
       "    .dataframe tbody tr th {\n",
       "        vertical-align: top;\n",
       "    }\n",
       "\n",
       "    .dataframe thead th {\n",
       "        text-align: right;\n",
       "    }\n",
       "</style>\n",
       "<table border=\"1\" class=\"dataframe\">\n",
       "  <thead>\n",
       "    <tr style=\"text-align: right;\">\n",
       "      <th></th>\n",
       "      <th>url</th>\n",
       "      <th>WeekID</th>\n",
       "      <th>WeekPosition</th>\n",
       "      <th>Song</th>\n",
       "      <th>Performer</th>\n",
       "      <th>SongID</th>\n",
       "      <th>Instance</th>\n",
       "      <th>Previous Week Position</th>\n",
       "      <th>Peak Position</th>\n",
       "      <th>Weeks on Chart</th>\n",
       "      <th>Year</th>\n",
       "    </tr>\n",
       "  </thead>\n",
       "  <tbody>\n",
       "    <tr>\n",
       "      <th>0</th>\n",
       "      <td>http://www.billboard.com/charts/hot-100/1963-0...</td>\n",
       "      <td>6/1/1963</td>\n",
       "      <td>11</td>\n",
       "      <td>Still</td>\n",
       "      <td>Bill Anderson</td>\n",
       "      <td>StillBill Anderson</td>\n",
       "      <td>1.0</td>\n",
       "      <td>17.0</td>\n",
       "      <td>11.0</td>\n",
       "      <td>8.0</td>\n",
       "      <td>1963</td>\n",
       "    </tr>\n",
       "    <tr>\n",
       "      <th>1</th>\n",
       "      <td>http://www.billboard.com/charts/hot-100/1967-0...</td>\n",
       "      <td>1/7/1967</td>\n",
       "      <td>11</td>\n",
       "      <td>Coming Home Soldier</td>\n",
       "      <td>Bobby Vinton</td>\n",
       "      <td>Coming Home SoldierBobby Vinton</td>\n",
       "      <td>1.0</td>\n",
       "      <td>17.0</td>\n",
       "      <td>11.0</td>\n",
       "      <td>8.0</td>\n",
       "      <td>1967</td>\n",
       "    </tr>\n",
       "    <tr>\n",
       "      <th>2</th>\n",
       "      <td>http://www.billboard.com/charts/hot-100/1971-0...</td>\n",
       "      <td>7/3/1971</td>\n",
       "      <td>11</td>\n",
       "      <td>She's Not Just Another Woman</td>\n",
       "      <td>The 8th Day</td>\n",
       "      <td>She's Not Just Another WomanThe 8th Day</td>\n",
       "      <td>1.0</td>\n",
       "      <td>17.0</td>\n",
       "      <td>11.0</td>\n",
       "      <td>8.0</td>\n",
       "      <td>1971</td>\n",
       "    </tr>\n",
       "    <tr>\n",
       "      <th>3</th>\n",
       "      <td>http://www.billboard.com/charts/hot-100/1975-1...</td>\n",
       "      <td>11/29/1975</td>\n",
       "      <td>11</td>\n",
       "      <td>Saturday Night</td>\n",
       "      <td>Bay City Rollers</td>\n",
       "      <td>Saturday NightBay City Rollers</td>\n",
       "      <td>1.0</td>\n",
       "      <td>17.0</td>\n",
       "      <td>11.0</td>\n",
       "      <td>8.0</td>\n",
       "      <td>1975</td>\n",
       "    </tr>\n",
       "    <tr>\n",
       "      <th>4</th>\n",
       "      <td>http://www.billboard.com/charts/hot-100/1979-0...</td>\n",
       "      <td>9/29/1979</td>\n",
       "      <td>11</td>\n",
       "      <td>Pop Muzik</td>\n",
       "      <td>M</td>\n",
       "      <td>Pop MuzikM</td>\n",
       "      <td>1.0</td>\n",
       "      <td>17.0</td>\n",
       "      <td>11.0</td>\n",
       "      <td>8.0</td>\n",
       "      <td>1979</td>\n",
       "    </tr>\n",
       "  </tbody>\n",
       "</table>\n",
       "</div>"
      ],
      "text/plain": [
       "                                                 url      WeekID  \\\n",
       "0  http://www.billboard.com/charts/hot-100/1963-0...    6/1/1963   \n",
       "1  http://www.billboard.com/charts/hot-100/1967-0...    1/7/1967   \n",
       "2  http://www.billboard.com/charts/hot-100/1971-0...    7/3/1971   \n",
       "3  http://www.billboard.com/charts/hot-100/1975-1...  11/29/1975   \n",
       "4  http://www.billboard.com/charts/hot-100/1979-0...   9/29/1979   \n",
       "\n",
       "   WeekPosition                          Song         Performer  \\\n",
       "0            11                         Still     Bill Anderson   \n",
       "1            11           Coming Home Soldier      Bobby Vinton   \n",
       "2            11  She's Not Just Another Woman       The 8th Day   \n",
       "3            11                Saturday Night  Bay City Rollers   \n",
       "4            11                     Pop Muzik                 M   \n",
       "\n",
       "                                    SongID  Instance  Previous Week Position  \\\n",
       "0                       StillBill Anderson       1.0                    17.0   \n",
       "1          Coming Home SoldierBobby Vinton       1.0                    17.0   \n",
       "2  She's Not Just Another WomanThe 8th Day       1.0                    17.0   \n",
       "3           Saturday NightBay City Rollers       1.0                    17.0   \n",
       "4                               Pop MuzikM       1.0                    17.0   \n",
       "\n",
       "   Peak Position  Weeks on Chart  Year  \n",
       "0           11.0             8.0  1963  \n",
       "1           11.0             8.0  1967  \n",
       "2           11.0             8.0  1971  \n",
       "3           11.0             8.0  1975  \n",
       "4           11.0             8.0  1979  "
      ]
     },
     "execution_count": 6,
     "metadata": {},
     "output_type": "execute_result"
    }
   ],
   "source": [
    "filename = 'billboard.csv'\n",
    "df = pd.read_csv(FOLDER+filename)\n",
    "df['Year'] = pd.to_datetime(df['WeekID']).dt.year\n",
    "df = df.rename(columns={\"Week Position\":\"WeekPosition\"})\n",
    "df = df.drop_duplicates(['SongID'])\n",
    "df.head()"
   ]
  },
  {
   "cell_type": "code",
   "execution_count": 7,
   "metadata": {},
   "outputs": [
    {
     "data": {
      "text/html": [
       "<div>\n",
       "<style scoped>\n",
       "    .dataframe tbody tr th:only-of-type {\n",
       "        vertical-align: middle;\n",
       "    }\n",
       "\n",
       "    .dataframe tbody tr th {\n",
       "        vertical-align: top;\n",
       "    }\n",
       "\n",
       "    .dataframe thead th {\n",
       "        text-align: right;\n",
       "    }\n",
       "</style>\n",
       "<table border=\"1\" class=\"dataframe\">\n",
       "  <thead>\n",
       "    <tr style=\"text-align: right;\">\n",
       "      <th></th>\n",
       "      <th>Song</th>\n",
       "      <th>Performer</th>\n",
       "      <th>Year</th>\n",
       "      <th>Decade</th>\n",
       "    </tr>\n",
       "  </thead>\n",
       "  <tbody>\n",
       "    <tr>\n",
       "      <th>167831</th>\n",
       "      <td>Eastside</td>\n",
       "      <td>benny blanco, Halsey &amp; Khalid</td>\n",
       "      <td>2019</td>\n",
       "      <td>2010</td>\n",
       "    </tr>\n",
       "    <tr>\n",
       "      <th>252653</th>\n",
       "      <td>Wait For You</td>\n",
       "      <td>Elliott Yamin</td>\n",
       "      <td>2007</td>\n",
       "      <td>2000</td>\n",
       "    </tr>\n",
       "    <tr>\n",
       "      <th>271215</th>\n",
       "      <td>Wildflower</td>\n",
       "      <td>Skylark</td>\n",
       "      <td>1973</td>\n",
       "      <td>1970</td>\n",
       "    </tr>\n",
       "    <tr>\n",
       "      <th>177187</th>\n",
       "      <td>Even Though I'm Leaving</td>\n",
       "      <td>Luke Combs</td>\n",
       "      <td>2019</td>\n",
       "      <td>2010</td>\n",
       "    </tr>\n",
       "    <tr>\n",
       "      <th>315541</th>\n",
       "      <td>Do Re Mi</td>\n",
       "      <td>blackbear</td>\n",
       "      <td>2017</td>\n",
       "      <td>2010</td>\n",
       "    </tr>\n",
       "  </tbody>\n",
       "</table>\n",
       "</div>"
      ],
      "text/plain": [
       "                           Song                      Performer  Year  Decade\n",
       "167831                 Eastside  benny blanco, Halsey & Khalid  2019    2010\n",
       "252653             Wait For You                  Elliott Yamin  2007    2000\n",
       "271215               Wildflower                        Skylark  1973    1970\n",
       "177187  Even Though I'm Leaving                     Luke Combs  2019    2010\n",
       "315541                 Do Re Mi                      blackbear  2017    2010"
      ]
     },
     "execution_count": 7,
     "metadata": {},
     "output_type": "execute_result"
    }
   ],
   "source": [
    "df = df.sort_values(by='Weeks on Chart', ascending=False)\n",
    "top10_df = df.groupby('Year').head(10)\n",
    "top10_df = top10_df[['Song', 'Performer', 'Year']]\n",
    "top10_df['Decade'] = (top10_df['Year']//10)*10\n",
    "top10_df.head()"
   ]
  },
  {
   "cell_type": "code",
   "execution_count": 8,
   "metadata": {},
   "outputs": [
    {
     "name": "stdout",
     "output_type": "stream",
     "text": [
      "Total number of songs:  630\n"
     ]
    }
   ],
   "source": [
    "print(\"Total number of songs: \",len(top10_df))"
   ]
  },
  {
   "cell_type": "code",
   "execution_count": 9,
   "metadata": {},
   "outputs": [
    {
     "data": {
      "text/plain": [
       "(array([10., 10., 10., 10., 10., 10., 10., 10., 10., 10., 10., 10., 10.,\n",
       "        10., 10., 10., 10., 10., 10., 10., 10., 10., 10., 10., 10., 10.,\n",
       "        10., 10., 10., 10., 10., 10., 10., 10., 10., 10., 10., 10., 10.,\n",
       "        10., 10., 10., 10., 10., 10., 10., 10., 10., 10., 10., 10., 10.,\n",
       "        10., 10., 10., 10., 10., 10., 10., 10., 10., 10., 10.]),\n",
       " array([1958.        , 1958.98412698, 1959.96825397, 1960.95238095,\n",
       "        1961.93650794, 1962.92063492, 1963.9047619 , 1964.88888889,\n",
       "        1965.87301587, 1966.85714286, 1967.84126984, 1968.82539683,\n",
       "        1969.80952381, 1970.79365079, 1971.77777778, 1972.76190476,\n",
       "        1973.74603175, 1974.73015873, 1975.71428571, 1976.6984127 ,\n",
       "        1977.68253968, 1978.66666667, 1979.65079365, 1980.63492063,\n",
       "        1981.61904762, 1982.6031746 , 1983.58730159, 1984.57142857,\n",
       "        1985.55555556, 1986.53968254, 1987.52380952, 1988.50793651,\n",
       "        1989.49206349, 1990.47619048, 1991.46031746, 1992.44444444,\n",
       "        1993.42857143, 1994.41269841, 1995.3968254 , 1996.38095238,\n",
       "        1997.36507937, 1998.34920635, 1999.33333333, 2000.31746032,\n",
       "        2001.3015873 , 2002.28571429, 2003.26984127, 2004.25396825,\n",
       "        2005.23809524, 2006.22222222, 2007.20634921, 2008.19047619,\n",
       "        2009.17460317, 2010.15873016, 2011.14285714, 2012.12698413,\n",
       "        2013.11111111, 2014.0952381 , 2015.07936508, 2016.06349206,\n",
       "        2017.04761905, 2018.03174603, 2019.01587302, 2020.        ]),\n",
       " <a list of 63 Patch objects>)"
      ]
     },
     "execution_count": 9,
     "metadata": {},
     "output_type": "execute_result"
    },
    {
     "data": {
      "image/png": "[encoded data removed]",
      "text/plain": [
       "<Figure size 432x288 with 1 Axes>"
      ]
     },
     "metadata": {
      "needs_background": "light"
     },
     "output_type": "display_data"
    }
   ],
   "source": [
    "plt.hist(x=top10_df.Year, bins= 63)"
   ]
  },
  {
   "cell_type": "markdown",
   "metadata": {},
   "source": [
    "## Lyrics scraping:\n",
    "We get the lyrics for the top_10 songs from Genius API."
   ]
  },
  {
   "cell_type": "markdown",
   "metadata": {},
   "source": [
    "We notice that some songs list 2 names of performers, some other list 2 titles (title1/title2), which leads to various errors in the scraping of the lyrics from Genius. So we make some updates:"
   ]
  },
  {
   "cell_type": "code",
   "execution_count": 10,
   "metadata": {},
   "outputs": [],
   "source": [
    "def update_performer(performer):\n",
    "    try:\n",
    "        if performer.find(\"duet with\") > 0:\n",
    "            performer = performer.split(\"duet with\", 1)[0] #take the performer_1 in \"performer_1 duet with performer_2\"\n",
    "        elif performer.find(\"with\") > 0:\n",
    "            performer = performer.split(\"with\", 1)[0] #take the performer_1 in \"performer_1 with performer_2\"\n",
    "        elif performer.find(\" and\") > 0:\n",
    "            performer = performer.split(\" and\", 1)[0]\n",
    "        elif performer.find(\"&\") > 0:\n",
    "            performer = performer.split(\"&\", 1)[0]\n",
    "        elif performer.find(\"featuring\") > 0:\n",
    "            performer = performer.split(\"featuring\", 1)[0]\n",
    "        elif performer.find(\"feat\") > 0:\n",
    "            performer = performer.split(\"feat\", 1)[0]\n",
    "    except:\n",
    "        print(\"Error:\", performer)\n",
    "        \n",
    "    return performer"
   ]
  },
  {
   "cell_type": "code",
   "execution_count": 11,
   "metadata": {},
   "outputs": [],
   "source": [
    "top10_df['Performer'] = top10_df['Performer'].str.lower()\n",
    "\n",
    "top10_df['Performer'] = top10_df.apply(lambda x: update_performer(x['Performer']), axis=1)"
   ]
  },
  {
   "cell_type": "code",
   "execution_count": 12,
   "metadata": {},
   "outputs": [],
   "source": [
    "def update_song(title):\n",
    "    try:\n",
    "        if title.find(\"/\") > 0:\n",
    "            title = title.split(\"/\", 1)[0] #take the title_1 in \"title_1/title_2\"\n",
    "        elif title.find(\"(from\") > 0:\n",
    "            title = title.split(\"(from\", 1)[0]\n",
    "    except:\n",
    "        print(\"Error:\", title)\n",
    "        \n",
    "    return title"
   ]
  },
  {
   "cell_type": "code",
   "execution_count": 13,
   "metadata": {},
   "outputs": [],
   "source": [
    "top10_df['Song'] = top10_df['Song'].str.lower()\n",
    "\n",
    "top10_df['Song'] = top10_df.apply(lambda x: update_song(x['Song']), axis=1)"
   ]
  },
  {
   "cell_type": "markdown",
   "metadata": {},
   "source": [
    "We save the lyrics of each song in a column **Lyrics**."
   ]
  },
  {
   "cell_type": "code",
   "execution_count": 14,
   "metadata": {},
   "outputs": [],
   "source": [
    "token = 'vLxzP-1gpCyF2ZwDa_Sfjk1gm9WlA7yVVgRFFpRO6wyIH72DA8sOEynW7jj1aYKh'\n",
    "\n",
    "genius = lg.Genius(token, \n",
    "                   skip_non_songs=True, excluded_terms=[\"(Remix)\", \"(Live)\"], \n",
    "                   remove_section_headers=True) #ignore metadata"
   ]
  },
  {
   "cell_type": "code",
   "execution_count": 15,
   "metadata": {},
   "outputs": [],
   "source": [
    "\"\"\"\n",
    "@params: a song title and the performer's name\n",
    "@return: the lyrics, or \"Error\" in case of exception\n",
    "\"\"\"\n",
    "def get_lyrics(song, performer):\n",
    "    try:\n",
    "        return genius.search_song(song, performer).lyrics\n",
    "    except: \n",
    "        return \"Error\""
   ]
  },
  {
   "cell_type": "code",
   "execution_count": null,
   "metadata": {},
   "outputs": [
    {
     "name": "stdout",
     "output_type": "stream",
     "text": [
      "Searching for \"eastside\" by benny blanco, halsey ...\n",
      "Done.\n",
      "Searching for \"wait for you\" by elliott yamin...\n",
      "Done.\n",
      "Searching for \"wildflower\" by skylark...\n",
      "Done.\n",
      "Searching for \"even though i'm leaving\" by luke combs...\n",
      "Done.\n",
      "Searching for \"do re mi\" by blackbear...\n",
      "Done.\n",
      "Searching for \"you make it easy\" by jason aldean...\n",
      "Done.\n",
      "Searching for \"smack that\" by akon ...\n",
      "Done.\n",
      "Searching for \"alley-oop\" by hollywood argyles...\n",
      "Done.\n",
      "Searching for \"quiet village\" by the exotic sounds of martin denny...\n",
      "Done.\n",
      "Searching for \"the ballad of the green berets\" by ssgt barry sadler...\n",
      "Done.\n",
      "Searching for \"run this town\" by jay-z, rihanna ...\n",
      "Done.\n",
      "Searching for \"poor side of town\" by johnny rivers...\n",
      "Done.\n",
      "Searching for \"blue moon\" by the marcels...\n",
      "Done.\n",
      "Searching for \"burning bridges\" by jack scott...\n",
      "Done.\n",
      "Searching for \"take a bow\" by rihanna...\n",
      "Done.\n",
      "Searching for \"classical gas\" by mason williams...\n",
      "Specified song does not contain lyrics. Rejecting.\n",
      "Searching for \"suspicion\" by terry stafford...\n",
      "Done.\n",
      "Searching for \"put your hand in the hand\" by ocean...\n",
      "Done.\n",
      "Searching for \"sleep walk\" by santo ...\n",
      "Done.\n",
      "Searching for \"cathy's clown\" by the everly brothers...\n",
      "Done.\n",
      "Searching for \"telstar\" by the tornadoes...\n",
      "Done.\n",
      "Searching for \"dizzy\" by tommy roe...\n",
      "Done.\n",
      "Searching for \"aquarius\" by the 5th dimension...\n",
      "Done.\n",
      "Searching for \"pink shoe laces\" by dodie stevens...\n",
      "Done.\n",
      "Searching for \"diamonds and pearls\" by prince...\n",
      "Done.\n",
      "Searching for \"brand new key\" by melanie...\n",
      "Done.\n",
      "Searching for \"summertime\" by d.j. jazzy jeff ...\n",
      "Done.\n",
      "Searching for \"come back when you grow up\" by bobby vee...\n",
      "Done.\n",
      "Searching for \"spooky\" by classics iv...\n",
      "Done.\n",
      "Searching for \"stoned soul picnic\" by the 5th dimension...\n",
      "Done.\n",
      "Searching for \"one more try\" by timmy t....\n",
      "Done.\n",
      "Searching for \"baby-baby-baby\" by tlc...\n",
      "Done.\n",
      "Searching for \"talk dirty\" by jason derulo ...\n",
      "Done.\n",
      "Searching for \"ain't no sunshine\" by bill ...\n",
      "Searching for \"burning love\" by elvis presley...\n",
      "Done.\n",
      "Searching for \"rump shaker\" by wreckx-n-effect...\n",
      "Searching for \"cheerleader\" by omi...\n",
      "Done.\n",
      "Searching for \"(you're my) soul and inspiration\" by the righteous brothers...\n",
      "Done.\n",
      "Searching for \"stay\" by maurice williams ...\n",
      "Done.\n",
      "Searching for \"raindrops\" by dee clark...\n",
      "Done.\n",
      "Searching for \"she's not there\" by the zombies...\n",
      "Done.\n",
      "Searching for \"ramblin man\" by the allman brothers band...\n",
      "Done.\n",
      "Searching for \"only the lonely (know how i feel)\" by roy orbison...\n",
      "Done.\n",
      "Searching for \"a hundred pounds of clay\" by gene mcdaniels...\n",
      "Done.\n",
      "Searching for \"bobby's girl\" by marcie blane...\n",
      "Done.\n",
      "Searching for \"release me (and let me love again)\" by engelbert humperdinck...\n",
      "Done.\n",
      "Searching for \"rainy night in georgia\" by brook benton...\n",
      "Done.\n",
      "Searching for \"don't pull your love\" by hamilton, joe frank ...\n",
      "Done.\n",
      "Searching for \"sugar, sugar\" by the archies...\n",
      "Done.\n",
      "Searching for \"the battle of new orleans\" by johnny horton...\n",
      "Done.\n",
      "Searching for \"alone again (naturally)\" by gilbert o'sullivan...\n",
      "Done.\n",
      "Searching for \"crazy\" by gnarls barkley...\n",
      "Done.\n",
      "Searching for \"stagger lee\" by lloyd price...\n",
      "Done.\n",
      "Searching for \"teen angel\" by mark dinning...\n",
      "Done.\n",
      "Searching for \"crimson and clover\" by tommy james...\n",
      "Done.\n",
      "Searching for \"ring my bell\" by anita ward...\n",
      "Done.\n",
      "Searching for \"bleeding love\" by leona lewis...\n",
      "Done.\n",
      "Searching for \"can't you hear my heartbeat\" by herman's hermits...\n",
      "Done.\n",
      "Searching for \"a lover's concerto\" by the toys...\n",
      "Done.\n",
      "Searching for \"sunny\" by bobby hebb...\n",
      "Done.\n",
      "Searching for \"crystal blue persuasion\" by tommy james...\n",
      "Done.\n",
      "Searching for \"pon de replay\" by rihanna...\n",
      "Done.\n",
      "Searching for \"bird dog\" by the everly brothers...\n",
      "Done.\n",
      "Searching for \"daddy's home\" by shep...\n",
      "Done.\n",
      "Searching for \"could've been\" by tiffany...\n",
      "Done.\n",
      "Searching for \"best i ever had\" by drake...\n",
      "Done.\n",
      "Searching for \"seasons in the sun\" by terry jacks...\n",
      "Done.\n",
      "Searching for \"rude\" by magic!...\n",
      "Done.\n",
      "Searching for \"7 years\" by lukas graham...\n",
      "Done.\n",
      "Searching for \"bodak yellow (money moves)\" by cardi b...\n",
      "Done.\n",
      "Searching for \"clair\" by gilbert o'sullivan...\n",
      "Done.\n",
      "Searching for \"can't help falling in love \" by ub40...\n",
      "Done.\n",
      "Searching for \"take good care of my baby\" by bobby vee...\n",
      "Done.\n",
      "Searching for \"strangers in the night\" by frank sinatra...\n",
      "Done.\n",
      "Searching for \"roar\" by katy perry...\n",
      "Done.\n",
      "Searching for \"quarter to three\" by u.s. bonds...\n",
      "Done.\n",
      "Searching for \"sea of love\" by phil phillips ...\n",
      "Done.\n",
      "Searching for \"ramblin' rose\" by nat king cole...\n",
      "Done.\n",
      "Searching for \"1-2-3\" by len barry...\n",
      "Done.\n",
      "Searching for \"all that she wants\" by ace of base...\n",
      "Done.\n",
      "Searching for \"disco duck (part i)\" by rick dees ...\n",
      "Done.\n",
      "Searching for \"sunshine on my shoulders\" by john denver...\n",
      "Done.\n",
      "Searching for \"raindrops keep fallin' on my head\" by b.j. thomas...\n",
      "Done.\n",
      "Searching for \"da doo ron ron\" by shaun cassidy...\n",
      "Done.\n",
      "Searching for \"billy, don't be a hero\" by bo donaldson...\n",
      "Done.\n",
      "Searching for \"annie's song\" by john denver...\n",
      "Done.\n",
      "Searching for \"disco lady\" by johnnie taylor...\n",
      "Done.\n",
      "Searching for \"save the best for last\" by vanessa williams...\n",
      "Done.\n",
      "Searching for \"sexyback\" by justin timberlake...\n",
      "Done.\n",
      "Searching for \"blurred lines\" by robin thicke ...\n",
      "Done.\n",
      "Searching for \"see you again\" by wiz khalifa ...\n",
      "Searching for \"out of limits\" by the marketts...\n",
      "Specified song does not contain lyrics. Rejecting.\n",
      "Searching for \"black beatles\" by rae sremmurd ...\n",
      "Done.\n",
      "Searching for \"afternoon delight\" by starland vocal band...\n",
      "Done.\n",
      "Searching for \"deep purple\" by nino tempo ...\n",
      "Done.\n",
      "Searching for \"so much in love\" by the tymes...\n",
      "Done.\n",
      "Searching for \"panda\" by desiigner...\n",
      "Searching for \"calcutta\" by lawrence welk...\n",
      "Specified song does not contain lyrics. Rejecting.\n",
      "Searching for \"smoke gets in your eyes\" by the platters...\n",
      "Done.\n",
      "Searching for \"all falls down\" by kanye west ...\n",
      "Done.\n",
      "Searching for \"blue angel\" by roy orbison...\n",
      "Done.\n",
      "Searching for \"amen\" by the impressions...\n",
      "Done.\n",
      "Searching for \"surfer girl\" by the beach boys...\n",
      "Done.\n",
      "Searching for \"shout! shout! (knock yourself out)\" by ernie maresca...\n",
      "Done.\n",
      "Searching for \"don't rush me\" by taylor dayne...\n",
      "Done.\n",
      "Searching for \"baby workout\" by jackie wilson...\n",
      "Done.\n",
      "Searching for \"stand by me\" by ben e. king...\n",
      "Done.\n",
      "Searching for \"she'd rather be with me\" by the turtles...\n",
      "Done.\n",
      "Searching for \"come undone\" by duran duran...\n",
      "Done.\n",
      "Searching for \"once you get started\" by rufus ...\n",
      "Done.\n",
      "Searching for \"call me (come back home)\" by al green...\n",
      "Done.\n",
      "Searching for \"a thousand miles\" by vanessa carlton...\n",
      "Done.\n",
      "Searching for \"bed of roses\" by bon jovi...\n",
      "Done.\n",
      "Searching for \"3 a.m. eternal\" by the klf...\n",
      "Done.\n",
      "Searching for \"surfin' bird\" by the trashmen...\n",
      "Done.\n",
      "Searching for \"stir fry\" by migos...\n",
      "Done.\n",
      "Searching for \"jocelyn flores\" by xxxtentacion...\n",
      "Done.\n",
      "Searching for \"proud mary\" by ike ...\n",
      "Done.\n",
      "Searching for \"don't hang up\" by the orlons...\n",
      "Done.\n",
      "Searching for \"cry baby\" by garnet mimms ...\n",
      "Done.\n",
      "Searching for \"calendar girl\" by neil sedaka...\n",
      "Done.\n",
      "Searching for \"birthday sex\" by jeremih...\n",
      "Done.\n",
      "Searching for \"san francisco (be sure to wear flowers in your hair)\" by scott mckenzie...\n",
      "Done.\n",
      "Searching for \"black is black\" by los bravos...\n",
      "Done.\n",
      "Searching for \"cindy's birthday\" by johnny crawford...\n",
      "Done.\n",
      "Searching for \"rock your baby\" by george mccrae...\n",
      "Done.\n",
      "Searching for \"sealed with a kiss\" by brian hyland...\n",
      "Done.\n",
      "Searching for \"red rubber ball\" by the cyrkle...\n",
      "Done.\n",
      "Searching for \"sunshine superman\" by donovan...\n",
      "Done.\n",
      "Searching for \"come back to me\" by janet jackson...\n",
      "Done.\n",
      "Searching for \"be my baby\" by the ronettes...\n",
      "Done.\n",
      "Searching for \"f**k love\" by xxxtentacion ...\n",
      "Done.\n",
      "Searching for \"cold sweat - part 1\" by james brown...\n",
      "Done.\n",
      "Searching for \"silhouettes\" by herman's hermits...\n",
      "Done.\n",
      "Searching for \"ain't nothing like the real thing\" by marvin gaye ...\n",
      "Done.\n",
      "Searching for \"sandstorm\" by darude...\n",
      "Done.\n",
      "Searching for \"bullets in the gun\" by toby keith...\n",
      "Done.\n",
      "Searching for \"ready or not\" by bridgit mendler...\n",
      "Done.\n",
      "Searching for \"back off boogaloo\" by ringo starr...\n",
      "Done.\n",
      "Searching for \"both sides now\" by judy collins...\n",
      "Done.\n",
      "Searching for \"dance, dance, dance\" by the beach boys...\n",
      "Done.\n",
      "Searching for \"do you know the way to san josé\" by dionne warwick...\n",
      "Done.\n",
      "Searching for \"quicksand\" by martha ...\n",
      "Done.\n",
      "Searching for \"shake\" by sam cooke...\n",
      "Done.\n",
      "Searching for \"selfish one\" by jackie ross...\n",
      "Done.\n",
      "Searching for \"a place in the sun\" by stevie wonder...\n",
      "Done.\n",
      "Searching for \"tell him no\" by travis ...\n",
      "Done.\n",
      "Searching for \"all i need\" by the temptations...\n",
      "Done.\n",
      "Searching for \"sweet cherry wine\" by tommy james...\n",
      "Done.\n",
      "Searching for \"an old fashioned love song\" by three dog night...\n",
      "Done.\n",
      "Searching for \"crack a bottle\" by eminem, dr. dre ...\n",
      "Done.\n",
      "Searching for \"tainted love\" by soft cell...\n",
      "Done.\n",
      "Searching for \"redneck stomp\" by jeff foxworthy...\n",
      "Done.\n",
      "Searching for \"along came jones\" by the coasters...\n",
      "Done.\n",
      "Searching for \"cold\" by crossfade...\n",
      "Done.\n",
      "Searching for \"blue kiss\" by jane wiedlin...\n"
     ]
    }
   ],
   "source": [
    "top10_df['Lyrics'] = top10_df.apply(lambda x: get_lyrics(x['Song'],x['Performer']), axis=1)"
   ]
  },
  {
   "cell_type": "code",
   "execution_count": null,
   "metadata": {},
   "outputs": [],
   "source": [
    "top10_df.query('Lyrics==\"Error\"')"
   ]
  },
  {
   "cell_type": "code",
   "execution_count": null,
   "metadata": {},
   "outputs": [],
   "source": [
    "print(\"Total number of errors: \", len(top10_df.query('Lyrics==\"Error\"')))"
   ]
  },
  {
   "cell_type": "markdown",
   "metadata": {},
   "source": [
    "The number of erronous lyrics is low, we can simply drop them."
   ]
  },
  {
   "cell_type": "code",
   "execution_count": null,
   "metadata": {},
   "outputs": [],
   "source": [
    "top10_df = top10_df.drop(top10_df[top10_df.Lyrics==\"Error\"].index)"
   ]
  },
  {
   "cell_type": "markdown",
   "metadata": {},
   "source": [
    "We save the final dataframe to a csv file."
   ]
  },
  {
   "cell_type": "code",
   "execution_count": null,
   "metadata": {},
   "outputs": [],
   "source": [
    "filename = \"lyrics_per_song.csv\"\n",
    "out_file = open(FOLDER+filename, \"w\")\n",
    "\n",
    "top10_df.to_csv(out_file, index=False)"
   ]
  },
  {
   "cell_type": "markdown",
   "metadata": {},
   "source": [
    "We write the lyrics of the songs in separate files by decade.\n",
    "<br> Also append the lyrics to the file \"all_lyrics\" each time."
   ]
  },
  {
   "cell_type": "code",
   "execution_count": null,
   "metadata": {},
   "outputs": [],
   "source": [
    "filename = \"all_lyrics.txt\"\n",
    "all_file = open(FOLDER+filename, 'w')"
   ]
  },
  {
   "cell_type": "code",
   "execution_count": null,
   "metadata": {},
   "outputs": [],
   "source": [
    "for dec in top10_df.Decade.unique():\n",
    "    filename = \"%s_lyrics.txt\" % dec\n",
    "    file = open(FOLDER+filename, 'w')\n",
    "    _df = top10_df.query(\"Decade == @dec\")\n",
    "    for l in _df.Lyrics:\n",
    "        file.write(l)\n",
    "        all_file.write(l)"
   ]
  },
  {
   "cell_type": "markdown",
   "metadata": {},
   "source": [
    "# ---------------------------------------------------------------------------------------------------\n",
    "<br> We notice wrong results of Genius queries. Here are some examples:"
   ]
  },
  {
   "cell_type": "code",
   "execution_count": null,
   "metadata": {},
   "outputs": [],
   "source": [
    "top10_df[top10_df['Lyrics'].str.contains(\"What parallel courses did Bloom and Stephen follow returning?\")]"
   ]
  },
  {
   "cell_type": "markdown",
   "metadata": {},
   "source": [
    "This is the text written in file 1950_lyrics.txt:"
   ]
  },
  {
   "cell_type": "code",
   "execution_count": null,
   "metadata": {},
   "outputs": [],
   "source": [
    "song = \"quiet village\"\n",
    "performer = \"the exotic sounds of martin denny\"\n",
    "genius.search_song(song, performer).lyrics"
   ]
  },
  {
   "cell_type": "markdown",
   "metadata": {},
   "source": [
    "Whereas the correct lyrics should be the following (small) text:"
   ]
  },
  {
   "cell_type": "code",
   "execution_count": null,
   "metadata": {},
   "outputs": [],
   "source": [
    "song = \"quiet village\"\n",
    "performer = \"martin denny\"\n",
    "genius.search_song(song, performer).lyrics"
   ]
  },
  {
   "cell_type": "markdown",
   "metadata": {},
   "source": [
    "However we cannot fix such errors automatically, and it's not a good idea to do it manually because we can't know how many of them exist."
   ]
  },
  {
   "cell_type": "code",
   "execution_count": null,
   "metadata": {},
   "outputs": [],
   "source": [
    "top10_df[top10_df['Lyrics'].str.contains(\"In the 1960’s, politics and music had a close relationship.\")]"
   ]
  },
  {
   "cell_type": "code",
   "execution_count": null,
   "metadata": {},
   "outputs": [],
   "source": [
    "song = \"the ballad of the green berets\"\n",
    "performer = \"barry sadler\"\n",
    "genius.search_song(song, performer).lyrics"
   ]
  },
  {
   "cell_type": "code",
   "execution_count": null,
   "metadata": {},
   "outputs": [],
   "source": [
    "top10_df[top10_df['Lyrics'].str.contains('Andrew Huang, \"Summertime Feeling\"')]"
   ]
  },
  {
   "cell_type": "code",
   "execution_count": null,
   "metadata": {},
   "outputs": [],
   "source": [
    "song = \"abracadabra\"\n",
    "performer = \"the steve miller b\"\n",
    "genius.search_song(song, performer).lyrics"
   ]
  },
  {
   "cell_type": "code",
   "execution_count": null,
   "metadata": {},
   "outputs": [],
   "source": [
    "song = \"Abracadabra\"\n",
    "performer = \"Steve Miller Band\"\n",
    "genius.search_song(song, performer).lyrics"
   ]
  },
  {
   "cell_type": "code",
   "execution_count": null,
   "metadata": {},
   "outputs": [],
   "source": [
    "#the below ones seem to not exist in Genius ! "
   ]
  },
  {
   "cell_type": "code",
   "execution_count": null,
   "metadata": {},
   "outputs": [],
   "source": [
    "top10_df[top10_df['Lyrics'].str.contains('Chapter 1vandalizing the standards we are held to')]"
   ]
  },
  {
   "cell_type": "code",
   "execution_count": null,
   "metadata": {},
   "outputs": [],
   "source": [
    "top10_df[top10_df['Lyrics'].str.contains('I am actually totally shocked. What the hell?')]"
   ]
  },
  {
   "cell_type": "code",
   "execution_count": null,
   "metadata": {},
   "outputs": [],
   "source": []
  }
 ],
 "metadata": {
  "kernelspec": {
   "display_name": "Python 3",
   "language": "python",
   "name": "python3"
  },
  "language_info": {
   "codemirror_mode": {
    "name": "ipython",
    "version": 3
   },
   "file_extension": ".py",
   "mimetype": "text/x-python",
   "name": "python",
   "nbconvert_exporter": "python",
   "pygments_lexer": "ipython3",
   "version": "3.8.3"
  }
 },
 "nbformat": 4,
 "nbformat_minor": 4
}
